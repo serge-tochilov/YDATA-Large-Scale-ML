{
 "nbformat": 4,
 "nbformat_minor": 0,
 "metadata": {
  "colab": {
   "name": "[LSML HW1] Spark SQL.ipynb",
   "provenance": [],
   "collapsed_sections": [],
   "toc_visible": true
  },
  "kernelspec": {
   "display_name": "Python 3",
   "language": "python",
   "name": "python3"
  },
  "language_info": {
   "codemirror_mode": {
    "name": "ipython",
    "version": 3
   },
   "file_extension": ".py",
   "mimetype": "text/x-python",
   "name": "python",
   "nbconvert_exporter": "python",
   "pygments_lexer": "ipython3",
   "version": "3.6.8"
  }
 },
 "cells": [
  {
   "cell_type": "markdown",
   "metadata": {
    "id": "59LCKNI9pHnk"
   },
   "source": [
    "Y-DATA 2021/21<br/>\n",
    "Large-scale ML HW2<br/>\n",
    "Serge Tochilov"
   ]
  },
  {
   "cell_type": "code",
   "metadata": {
    "id": "HbEGTcDetwR-"
   },
   "source": [
    "# Checklist:\n",
    "# AWS emr-5.29.0\n",
    "# MASTER r5d.8xlarge 1x, no EBS\n",
    "# CORE r5d.8xlarge 4x, no EBS\n",
    "# Custom bootstrap action: s3://ydatazian/bootstrap.sh\n",
    "# Allow ssh in master node security group"
   ],
   "execution_count": null,
   "outputs": []
  },
  {
   "cell_type": "markdown",
   "metadata": {
    "id": "uDbgKgX4peOP"
   },
   "source": [
    "> There might be older Numpy versions installed behind the latest, clean that. Add libs missed from `emr-5.29.0` AWS image."
   ]
  },
  {
   "cell_type": "code",
   "metadata": {
    "id": "O61IyH4ttwSR",
    "outputId": "c0fbb233-cc11-41b4-eb48-893140474f3a"
   },
   "source": [
    "! sudo pip-3.6 uninstall -y numpy\n",
    "! sudo pip-3.6 uninstall -y numpy\n",
    "! sudo pip-3.6 uninstall -y numpy\n",
    "! sudo pip-3.6 install numpy\n",
    "! sudo pip-3.6 install pypandoc\n",
    "! sudo pip-3.6 install pyspark==2.4.8"
   ],
   "execution_count": null,
   "outputs": [
    {
     "output_type": "stream",
     "text": [
      "Uninstalling numpy-1.19.5:\n",
      "  Successfully uninstalled numpy-1.19.5\n",
      "\u001B[33mYou are using pip version 9.0.3, however version 21.1.2 is available.\n",
      "You should consider upgrading via the 'pip install --upgrade pip' command.\u001B[0m\n",
      "Uninstalling numpy-1.14.5:\n",
      "  Successfully uninstalled numpy-1.14.5\n",
      "\u001B[33mYou are using pip version 9.0.3, however version 21.1.2 is available.\n",
      "You should consider upgrading via the 'pip install --upgrade pip' command.\u001B[0m\n",
      "Uninstalling numpy-1.14.5:\n",
      "  Successfully uninstalled numpy-1.14.5\n",
      "\u001B[33mYou are using pip version 9.0.3, however version 21.1.2 is available.\n",
      "You should consider upgrading via the 'pip install --upgrade pip' command.\u001B[0m\n",
      "Collecting numpy\n",
      "  Using cached https://files.pythonhosted.org/packages/45/b2/6c7545bb7a38754d63048c7696804a0d947328125d81bf12beaa692c3ae3/numpy-1.19.5-cp36-cp36m-manylinux1_x86_64.whl\n",
      "Installing collected packages: numpy\n",
      "Successfully installed numpy-1.19.5\n",
      "\u001B[33mYou are using pip version 9.0.3, however version 21.1.2 is available.\n",
      "You should consider upgrading via the 'pip install --upgrade pip' command.\u001B[0m\n",
      "Collecting pypandoc\n",
      "  Downloading https://files.pythonhosted.org/packages/d6/b7/5050dc1769c8a93d3ec7c4bd55be161991c94b8b235f88bf7c764449e708/pypandoc-1.5.tar.gz\n",
      "Requirement already satisfied: setuptools in /usr/lib/python3.6/dist-packages (from pypandoc)\n",
      "Requirement already satisfied: pip>=8.1.0 in /usr/lib/python3.6/dist-packages (from pypandoc)\n",
      "Collecting wheel>=0.25.0 (from pypandoc)\n",
      "  Downloading https://files.pythonhosted.org/packages/65/63/39d04c74222770ed1589c0eaba06c05891801219272420b40311cd60c880/wheel-0.36.2-py2.py3-none-any.whl\n",
      "Installing collected packages: wheel, pypandoc\n",
      "  Running setup.py install for pypandoc ... \u001B[?25ldone\n",
      "\u001B[?25hSuccessfully installed pypandoc-1.5 wheel-0.36.2\n",
      "\u001B[33mYou are using pip version 9.0.3, however version 21.1.2 is available.\n",
      "You should consider upgrading via the 'pip install --upgrade pip' command.\u001B[0m\n",
      "Collecting pyspark==2.4.8\n",
      "  Downloading https://files.pythonhosted.org/packages/13/29/1a5d7c60609dfc8fd79c86965e95ea7e9e181385d839bc43913d277effa2/pyspark-2.4.8.tar.gz (220.5MB)\n",
      "\u001B[K    100% |████████████████████████████████| 220.5MB 6.3kB/s eta 0:00:01\n",
      "\u001B[?25hCollecting py4j==0.10.7 (from pyspark==2.4.8)\n",
      "  Downloading https://files.pythonhosted.org/packages/e3/53/c737818eb9a7dc32a7cd4f1396e787bd94200c3997c72c1dbe028587bd76/py4j-0.10.7-py2.py3-none-any.whl (197kB)\n",
      "\u001B[K    100% |████████████████████████████████| 204kB 6.7MB/s eta 0:00:01\n",
      "\u001B[?25hBuilding wheels for collected packages: pyspark\n",
      "  Running setup.py bdist_wheel for pyspark ... \u001B[?25ldone\n",
      "\u001B[?25h  Stored in directory: /root/.cache/pip/wheels/42/c2/4c/0d89c347d4ed9b86b12e4c4264823f2749a4651b90f01c85aa\n",
      "Successfully built pyspark\n",
      "Installing collected packages: py4j, pyspark\n",
      "Successfully installed py4j-0.10.7 pyspark-2.4.8\n",
      "\u001B[33mYou are using pip version 9.0.3, however version 21.1.2 is available.\n",
      "You should consider upgrading via the 'pip install --upgrade pip' command.\u001B[0m\n"
     ],
     "name": "stdout"
    }
   ]
  },
  {
   "cell_type": "code",
   "metadata": {
    "id": "5xEYRoLftwST"
   },
   "source": [
    "import tqdm.notebook as tqdm\n",
    "import numpy as np\n",
    "import scipy\n",
    "import sklearn\n",
    "import matplotlib.pyplot as plt"
   ],
   "execution_count": null,
   "outputs": []
  },
  {
   "cell_type": "markdown",
   "metadata": {
    "id": "e1FIw5gdtwSV"
   },
   "source": [
    "# SparkSession\n",
    "\n",
    "https://spark.apache.org/docs/2.4.4/api/python/pyspark.html\n",
    "\n",
    "https://spark.apache.org/docs/2.4.4/api/python/pyspark.sql.html"
   ]
  },
  {
   "cell_type": "code",
   "metadata": {
    "id": "-0ckHiretwSV",
    "scrolled": true,
    "outputId": "507b3e84-b269-4769-b776-261d3b6f5d9c"
   },
   "source": [
    "import findspark\n",
    "findspark.init()\n",
    "\n",
    "import spark_utils\n",
    "from pyspark import SparkContext, SparkConf\n",
    "from pyspark.sql import SparkSession\n",
    "sc = SparkContext(\"yarn\", \"My App\", conf=spark_utils.get_spark_conf())\n",
    "se = SparkSession(sc)\n",
    "spark_utils.print_ui_links()"
   ],
   "execution_count": null,
   "outputs": [
    {
     "output_type": "stream",
     "text": [
      "NameNode: http://ec2-34-213-182-170.us-west-2.compute.amazonaws.com:50070\n",
      "YARN: http://ec2-34-213-182-170.us-west-2.compute.amazonaws.com:8088\n",
      "Spark UI: http://ec2-34-213-182-170.us-west-2.compute.amazonaws.com:20888/proxy/application_1622135603228_0001\n"
     ],
     "name": "stdout"
    }
   ]
  },
  {
   "cell_type": "markdown",
   "metadata": {
    "id": "c1NJypwklF_Z"
   },
   "source": [
    "## Outbrain click prediction dataseet"
   ]
  },
  {
   "cell_type": "markdown",
   "metadata": {
    "id": "twX4Yeez5Loj"
   },
   "source": [
    "https://www.kaggle.com/c/outbrain-click-prediction/data"
   ]
  },
  {
   "cell_type": "markdown",
   "metadata": {
    "id": "lXkum5Ay5DID"
   },
   "source": [
    "### AWS S3"
   ]
  },
  {
   "cell_type": "code",
   "metadata": {
    "id": "j4FsSCqe5CvG",
    "outputId": "f850ed75-abdb-4852-e489-ebfa4557b7ed"
   },
   "source": [
    "! aws s3 ls s3://ydatazian"
   ],
   "execution_count": null,
   "outputs": [
    {
     "output_type": "stream",
     "text": [
      "                           PRE week1/\n",
      "2021-05-06 13:10:24       1672 bootstrap.sh\n",
      "2021-05-13 21:20:22  176843889 clicks_test.parquet\n",
      "2021-05-13 21:20:22  495815517 clicks_train.parquet\n",
      "2021-05-13 21:21:58   34267065 documents_categories.parquet\n",
      "2021-05-13 21:21:58  206455957 documents_entities.parquet\n",
      "2021-05-13 21:21:58   23859965 documents_meta.parquet\n",
      "2021-05-13 21:21:58  187410196 documents_topics.parquet\n",
      "2021-05-13 21:21:58  734643471 events.parquet\n",
      "2021-05-13 21:56:44 50764611872 page_views.parquet\n",
      "2021-05-13 21:21:58  248421413 page_views_sample.parquet\n",
      "2021-05-13 21:21:59    5116927 promoted_content.parquet\n",
      "2021-05-13 21:21:58  273136709 sample_submission.csv\n"
     ],
     "name": "stdout"
    }
   ]
  },
  {
   "cell_type": "markdown",
   "metadata": {
    "id": "FDJA7vRqtwSa"
   },
   "source": [
    "# Register all tables for sql queries"
   ]
  },
  {
   "cell_type": "code",
   "metadata": {
    "colab": {
     "referenced_widgets": [
      "1fb26a48fa83460c926fe147763986c7",
      "d5b212c81de241778cd46b147fde2571"
     ]
    },
    "id": "Yxq51KAitwSa",
    "outputId": "63ebf315-8038-4546-e27a-d321bda4b301"
   },
   "source": [
    "tables = [\"clicks_test\", \"clicks_train\", \n",
    "          \"documents_categories\", \"documents_entities\", \"documents_meta\", \"documents_topics\", \n",
    "          \"events\", \"page_views\", \"page_views_sample\", \"promoted_content\"]\n",
    "for name in tqdm.tqdm(tables):\n",
    "    df = se.read.parquet(\"s3://ydatazian/{}.parquet\".format(name))\n",
    "    df.registerTempTable(name)\n",
    "    print(name)\n",
    "    display(df.limit(3).toPandas())"
   ],
   "execution_count": null,
   "outputs": [
    {
     "output_type": "display_data",
     "data": {
      "application/vnd.jupyter.widget-view+json": {
       "model_id": "d5b212c81de241778cd46b147fde2571",
       "version_major": 2,
       "version_minor": 0
      },
      "text/plain": [
       "  0%|          | 0/10 [00:00<?, ?it/s]"
      ]
     },
     "metadata": {
      "tags": []
     }
    },
    {
     "output_type": "stream",
     "text": [
      "clicks_test\n"
     ],
     "name": "stdout"
    },
    {
     "output_type": "display_data",
     "data": {
      "text/html": [
       "<div>\n",
       "<style scoped>\n",
       "    .dataframe tbody tr th:only-of-type {\n",
       "        vertical-align: middle;\n",
       "    }\n",
       "\n",
       "    .dataframe tbody tr th {\n",
       "        vertical-align: top;\n",
       "    }\n",
       "\n",
       "    .dataframe thead th {\n",
       "        text-align: right;\n",
       "    }\n",
       "</style>\n",
       "<table border=\"1\" class=\"dataframe\">\n",
       "  <thead>\n",
       "    <tr style=\"text-align: right;\">\n",
       "      <th></th>\n",
       "      <th>display_id</th>\n",
       "      <th>ad_id</th>\n",
       "    </tr>\n",
       "  </thead>\n",
       "  <tbody>\n",
       "    <tr>\n",
       "      <th>0</th>\n",
       "      <td>16874594</td>\n",
       "      <td>66758</td>\n",
       "    </tr>\n",
       "    <tr>\n",
       "      <th>1</th>\n",
       "      <td>16874594</td>\n",
       "      <td>150083</td>\n",
       "    </tr>\n",
       "    <tr>\n",
       "      <th>2</th>\n",
       "      <td>16874594</td>\n",
       "      <td>162754</td>\n",
       "    </tr>\n",
       "  </tbody>\n",
       "</table>\n",
       "</div>"
      ],
      "text/plain": [
       "  display_id   ad_id\n",
       "0   16874594   66758\n",
       "1   16874594  150083\n",
       "2   16874594  162754"
      ]
     },
     "metadata": {
      "tags": []
     }
    },
    {
     "output_type": "stream",
     "text": [
      "clicks_train\n"
     ],
     "name": "stdout"
    },
    {
     "output_type": "display_data",
     "data": {
      "text/html": [
       "<div>\n",
       "<style scoped>\n",
       "    .dataframe tbody tr th:only-of-type {\n",
       "        vertical-align: middle;\n",
       "    }\n",
       "\n",
       "    .dataframe tbody tr th {\n",
       "        vertical-align: top;\n",
       "    }\n",
       "\n",
       "    .dataframe thead th {\n",
       "        text-align: right;\n",
       "    }\n",
       "</style>\n",
       "<table border=\"1\" class=\"dataframe\">\n",
       "  <thead>\n",
       "    <tr style=\"text-align: right;\">\n",
       "      <th></th>\n",
       "      <th>display_id</th>\n",
       "      <th>ad_id</th>\n",
       "      <th>clicked</th>\n",
       "    </tr>\n",
       "  </thead>\n",
       "  <tbody>\n",
       "    <tr>\n",
       "      <th>0</th>\n",
       "      <td>1</td>\n",
       "      <td>42337</td>\n",
       "      <td>0</td>\n",
       "    </tr>\n",
       "    <tr>\n",
       "      <th>1</th>\n",
       "      <td>1</td>\n",
       "      <td>139684</td>\n",
       "      <td>0</td>\n",
       "    </tr>\n",
       "    <tr>\n",
       "      <th>2</th>\n",
       "      <td>1</td>\n",
       "      <td>144739</td>\n",
       "      <td>1</td>\n",
       "    </tr>\n",
       "  </tbody>\n",
       "</table>\n",
       "</div>"
      ],
      "text/plain": [
       "  display_id   ad_id clicked\n",
       "0          1   42337       0\n",
       "1          1  139684       0\n",
       "2          1  144739       1"
      ]
     },
     "metadata": {
      "tags": []
     }
    },
    {
     "output_type": "stream",
     "text": [
      "documents_categories\n"
     ],
     "name": "stdout"
    },
    {
     "output_type": "display_data",
     "data": {
      "text/html": [
       "<div>\n",
       "<style scoped>\n",
       "    .dataframe tbody tr th:only-of-type {\n",
       "        vertical-align: middle;\n",
       "    }\n",
       "\n",
       "    .dataframe tbody tr th {\n",
       "        vertical-align: top;\n",
       "    }\n",
       "\n",
       "    .dataframe thead th {\n",
       "        text-align: right;\n",
       "    }\n",
       "</style>\n",
       "<table border=\"1\" class=\"dataframe\">\n",
       "  <thead>\n",
       "    <tr style=\"text-align: right;\">\n",
       "      <th></th>\n",
       "      <th>document_id</th>\n",
       "      <th>category_id</th>\n",
       "      <th>confidence_level</th>\n",
       "    </tr>\n",
       "  </thead>\n",
       "  <tbody>\n",
       "    <tr>\n",
       "      <th>0</th>\n",
       "      <td>1595802</td>\n",
       "      <td>1611</td>\n",
       "      <td>0.92</td>\n",
       "    </tr>\n",
       "    <tr>\n",
       "      <th>1</th>\n",
       "      <td>1595802</td>\n",
       "      <td>1610</td>\n",
       "      <td>0.07</td>\n",
       "    </tr>\n",
       "    <tr>\n",
       "      <th>2</th>\n",
       "      <td>1524246</td>\n",
       "      <td>1807</td>\n",
       "      <td>0.92</td>\n",
       "    </tr>\n",
       "  </tbody>\n",
       "</table>\n",
       "</div>"
      ],
      "text/plain": [
       "  document_id category_id confidence_level\n",
       "0     1595802        1611             0.92\n",
       "1     1595802        1610             0.07\n",
       "2     1524246        1807             0.92"
      ]
     },
     "metadata": {
      "tags": []
     }
    },
    {
     "output_type": "stream",
     "text": [
      "documents_entities\n"
     ],
     "name": "stdout"
    },
    {
     "output_type": "display_data",
     "data": {
      "text/html": [
       "<div>\n",
       "<style scoped>\n",
       "    .dataframe tbody tr th:only-of-type {\n",
       "        vertical-align: middle;\n",
       "    }\n",
       "\n",
       "    .dataframe tbody tr th {\n",
       "        vertical-align: top;\n",
       "    }\n",
       "\n",
       "    .dataframe thead th {\n",
       "        text-align: right;\n",
       "    }\n",
       "</style>\n",
       "<table border=\"1\" class=\"dataframe\">\n",
       "  <thead>\n",
       "    <tr style=\"text-align: right;\">\n",
       "      <th></th>\n",
       "      <th>document_id</th>\n",
       "      <th>entity_id</th>\n",
       "      <th>confidence_level</th>\n",
       "    </tr>\n",
       "  </thead>\n",
       "  <tbody>\n",
       "    <tr>\n",
       "      <th>0</th>\n",
       "      <td>1524246</td>\n",
       "      <td>f9eec25663db4cd83183f5c805186f16</td>\n",
       "      <td>0.672865314504701</td>\n",
       "    </tr>\n",
       "    <tr>\n",
       "      <th>1</th>\n",
       "      <td>1524246</td>\n",
       "      <td>55ebcfbdaff1d6f60b3907151f38527a</td>\n",
       "      <td>0.399113728441297</td>\n",
       "    </tr>\n",
       "    <tr>\n",
       "      <th>2</th>\n",
       "      <td>1524246</td>\n",
       "      <td>839907a972930b17b125eb0247898412</td>\n",
       "      <td>0.392095749652966</td>\n",
       "    </tr>\n",
       "  </tbody>\n",
       "</table>\n",
       "</div>"
      ],
      "text/plain": [
       "  document_id                         entity_id   confidence_level\n",
       "0     1524246  f9eec25663db4cd83183f5c805186f16  0.672865314504701\n",
       "1     1524246  55ebcfbdaff1d6f60b3907151f38527a  0.399113728441297\n",
       "2     1524246  839907a972930b17b125eb0247898412  0.392095749652966"
      ]
     },
     "metadata": {
      "tags": []
     }
    },
    {
     "output_type": "stream",
     "text": [
      "documents_meta\n"
     ],
     "name": "stdout"
    },
    {
     "output_type": "display_data",
     "data": {
      "text/html": [
       "<div>\n",
       "<style scoped>\n",
       "    .dataframe tbody tr th:only-of-type {\n",
       "        vertical-align: middle;\n",
       "    }\n",
       "\n",
       "    .dataframe tbody tr th {\n",
       "        vertical-align: top;\n",
       "    }\n",
       "\n",
       "    .dataframe thead th {\n",
       "        text-align: right;\n",
       "    }\n",
       "</style>\n",
       "<table border=\"1\" class=\"dataframe\">\n",
       "  <thead>\n",
       "    <tr style=\"text-align: right;\">\n",
       "      <th></th>\n",
       "      <th>document_id</th>\n",
       "      <th>source_id</th>\n",
       "      <th>publisher_id</th>\n",
       "      <th>publish_time</th>\n",
       "    </tr>\n",
       "  </thead>\n",
       "  <tbody>\n",
       "    <tr>\n",
       "      <th>0</th>\n",
       "      <td>1595802</td>\n",
       "      <td>1</td>\n",
       "      <td>603</td>\n",
       "      <td>2016-06-05 00:00:00</td>\n",
       "    </tr>\n",
       "    <tr>\n",
       "      <th>1</th>\n",
       "      <td>1524246</td>\n",
       "      <td>1</td>\n",
       "      <td>603</td>\n",
       "      <td>2016-05-26 11:00:00</td>\n",
       "    </tr>\n",
       "    <tr>\n",
       "      <th>2</th>\n",
       "      <td>1617787</td>\n",
       "      <td>1</td>\n",
       "      <td>603</td>\n",
       "      <td>2016-05-27 00:00:00</td>\n",
       "    </tr>\n",
       "  </tbody>\n",
       "</table>\n",
       "</div>"
      ],
      "text/plain": [
       "  document_id source_id publisher_id         publish_time\n",
       "0     1595802         1          603  2016-06-05 00:00:00\n",
       "1     1524246         1          603  2016-05-26 11:00:00\n",
       "2     1617787         1          603  2016-05-27 00:00:00"
      ]
     },
     "metadata": {
      "tags": []
     }
    },
    {
     "output_type": "stream",
     "text": [
      "documents_topics\n"
     ],
     "name": "stdout"
    },
    {
     "output_type": "display_data",
     "data": {
      "text/html": [
       "<div>\n",
       "<style scoped>\n",
       "    .dataframe tbody tr th:only-of-type {\n",
       "        vertical-align: middle;\n",
       "    }\n",
       "\n",
       "    .dataframe tbody tr th {\n",
       "        vertical-align: top;\n",
       "    }\n",
       "\n",
       "    .dataframe thead th {\n",
       "        text-align: right;\n",
       "    }\n",
       "</style>\n",
       "<table border=\"1\" class=\"dataframe\">\n",
       "  <thead>\n",
       "    <tr style=\"text-align: right;\">\n",
       "      <th></th>\n",
       "      <th>document_id</th>\n",
       "      <th>topic_id</th>\n",
       "      <th>confidence_level</th>\n",
       "    </tr>\n",
       "  </thead>\n",
       "  <tbody>\n",
       "    <tr>\n",
       "      <th>0</th>\n",
       "      <td>1595802</td>\n",
       "      <td>140</td>\n",
       "      <td>0.0731131601068925</td>\n",
       "    </tr>\n",
       "    <tr>\n",
       "      <th>1</th>\n",
       "      <td>1595802</td>\n",
       "      <td>16</td>\n",
       "      <td>0.0594164867373976</td>\n",
       "    </tr>\n",
       "    <tr>\n",
       "      <th>2</th>\n",
       "      <td>1595802</td>\n",
       "      <td>143</td>\n",
       "      <td>0.0454207537554526</td>\n",
       "    </tr>\n",
       "  </tbody>\n",
       "</table>\n",
       "</div>"
      ],
      "text/plain": [
       "  document_id topic_id    confidence_level\n",
       "0     1595802      140  0.0731131601068925\n",
       "1     1595802       16  0.0594164867373976\n",
       "2     1595802      143  0.0454207537554526"
      ]
     },
     "metadata": {
      "tags": []
     }
    },
    {
     "output_type": "stream",
     "text": [
      "events\n"
     ],
     "name": "stdout"
    },
    {
     "output_type": "display_data",
     "data": {
      "text/html": [
       "<div>\n",
       "<style scoped>\n",
       "    .dataframe tbody tr th:only-of-type {\n",
       "        vertical-align: middle;\n",
       "    }\n",
       "\n",
       "    .dataframe tbody tr th {\n",
       "        vertical-align: top;\n",
       "    }\n",
       "\n",
       "    .dataframe thead th {\n",
       "        text-align: right;\n",
       "    }\n",
       "</style>\n",
       "<table border=\"1\" class=\"dataframe\">\n",
       "  <thead>\n",
       "    <tr style=\"text-align: right;\">\n",
       "      <th></th>\n",
       "      <th>display_id</th>\n",
       "      <th>uuid</th>\n",
       "      <th>document_id</th>\n",
       "      <th>timestamp</th>\n",
       "      <th>platform</th>\n",
       "      <th>geo_location</th>\n",
       "    </tr>\n",
       "  </thead>\n",
       "  <tbody>\n",
       "    <tr>\n",
       "      <th>0</th>\n",
       "      <td>1</td>\n",
       "      <td>cb8c55702adb93</td>\n",
       "      <td>379743</td>\n",
       "      <td>61</td>\n",
       "      <td>3</td>\n",
       "      <td>US&gt;SC&gt;519</td>\n",
       "    </tr>\n",
       "    <tr>\n",
       "      <th>1</th>\n",
       "      <td>2</td>\n",
       "      <td>79a85fa78311b9</td>\n",
       "      <td>1794259</td>\n",
       "      <td>81</td>\n",
       "      <td>2</td>\n",
       "      <td>US&gt;CA&gt;807</td>\n",
       "    </tr>\n",
       "    <tr>\n",
       "      <th>2</th>\n",
       "      <td>3</td>\n",
       "      <td>822932ce3d8757</td>\n",
       "      <td>1179111</td>\n",
       "      <td>182</td>\n",
       "      <td>2</td>\n",
       "      <td>US&gt;MI&gt;505</td>\n",
       "    </tr>\n",
       "  </tbody>\n",
       "</table>\n",
       "</div>"
      ],
      "text/plain": [
       "  display_id            uuid document_id timestamp platform geo_location\n",
       "0          1  cb8c55702adb93      379743        61        3    US>SC>519\n",
       "1          2  79a85fa78311b9     1794259        81        2    US>CA>807\n",
       "2          3  822932ce3d8757     1179111       182        2    US>MI>505"
      ]
     },
     "metadata": {
      "tags": []
     }
    },
    {
     "output_type": "stream",
     "text": [
      "page_views\n"
     ],
     "name": "stdout"
    },
    {
     "output_type": "display_data",
     "data": {
      "text/html": [
       "<div>\n",
       "<style scoped>\n",
       "    .dataframe tbody tr th:only-of-type {\n",
       "        vertical-align: middle;\n",
       "    }\n",
       "\n",
       "    .dataframe tbody tr th {\n",
       "        vertical-align: top;\n",
       "    }\n",
       "\n",
       "    .dataframe thead th {\n",
       "        text-align: right;\n",
       "    }\n",
       "</style>\n",
       "<table border=\"1\" class=\"dataframe\">\n",
       "  <thead>\n",
       "    <tr style=\"text-align: right;\">\n",
       "      <th></th>\n",
       "      <th>uuid</th>\n",
       "      <th>document_id</th>\n",
       "      <th>timestamp</th>\n",
       "      <th>platform</th>\n",
       "      <th>geo_location</th>\n",
       "      <th>traffic_source</th>\n",
       "    </tr>\n",
       "  </thead>\n",
       "  <tbody>\n",
       "    <tr>\n",
       "      <th>0</th>\n",
       "      <td>1fd5f051fba643</td>\n",
       "      <td>120</td>\n",
       "      <td>31905835</td>\n",
       "      <td>1</td>\n",
       "      <td>RS</td>\n",
       "      <td>2</td>\n",
       "    </tr>\n",
       "    <tr>\n",
       "      <th>1</th>\n",
       "      <td>8557aa9004be3b</td>\n",
       "      <td>120</td>\n",
       "      <td>32053104</td>\n",
       "      <td>1</td>\n",
       "      <td>VN&gt;44</td>\n",
       "      <td>2</td>\n",
       "    </tr>\n",
       "    <tr>\n",
       "      <th>2</th>\n",
       "      <td>c351b277a358f0</td>\n",
       "      <td>120</td>\n",
       "      <td>54013023</td>\n",
       "      <td>1</td>\n",
       "      <td>KR&gt;12</td>\n",
       "      <td>1</td>\n",
       "    </tr>\n",
       "  </tbody>\n",
       "</table>\n",
       "</div>"
      ],
      "text/plain": [
       "             uuid document_id timestamp platform geo_location traffic_source\n",
       "0  1fd5f051fba643         120  31905835        1           RS              2\n",
       "1  8557aa9004be3b         120  32053104        1        VN>44              2\n",
       "2  c351b277a358f0         120  54013023        1        KR>12              1"
      ]
     },
     "metadata": {
      "tags": []
     }
    },
    {
     "output_type": "stream",
     "text": [
      "page_views_sample\n"
     ],
     "name": "stdout"
    },
    {
     "output_type": "display_data",
     "data": {
      "text/html": [
       "<div>\n",
       "<style scoped>\n",
       "    .dataframe tbody tr th:only-of-type {\n",
       "        vertical-align: middle;\n",
       "    }\n",
       "\n",
       "    .dataframe tbody tr th {\n",
       "        vertical-align: top;\n",
       "    }\n",
       "\n",
       "    .dataframe thead th {\n",
       "        text-align: right;\n",
       "    }\n",
       "</style>\n",
       "<table border=\"1\" class=\"dataframe\">\n",
       "  <thead>\n",
       "    <tr style=\"text-align: right;\">\n",
       "      <th></th>\n",
       "      <th>uuid</th>\n",
       "      <th>document_id</th>\n",
       "      <th>timestamp</th>\n",
       "      <th>platform</th>\n",
       "      <th>geo_location</th>\n",
       "      <th>traffic_source</th>\n",
       "    </tr>\n",
       "  </thead>\n",
       "  <tbody>\n",
       "    <tr>\n",
       "      <th>0</th>\n",
       "      <td>1fd5f051fba643</td>\n",
       "      <td>120</td>\n",
       "      <td>31905835</td>\n",
       "      <td>1</td>\n",
       "      <td>RS</td>\n",
       "      <td>2</td>\n",
       "    </tr>\n",
       "    <tr>\n",
       "      <th>1</th>\n",
       "      <td>8557aa9004be3b</td>\n",
       "      <td>120</td>\n",
       "      <td>32053104</td>\n",
       "      <td>1</td>\n",
       "      <td>VN&gt;44</td>\n",
       "      <td>2</td>\n",
       "    </tr>\n",
       "    <tr>\n",
       "      <th>2</th>\n",
       "      <td>c351b277a358f0</td>\n",
       "      <td>120</td>\n",
       "      <td>54013023</td>\n",
       "      <td>1</td>\n",
       "      <td>KR&gt;12</td>\n",
       "      <td>1</td>\n",
       "    </tr>\n",
       "  </tbody>\n",
       "</table>\n",
       "</div>"
      ],
      "text/plain": [
       "             uuid document_id timestamp platform geo_location traffic_source\n",
       "0  1fd5f051fba643         120  31905835        1           RS              2\n",
       "1  8557aa9004be3b         120  32053104        1        VN>44              2\n",
       "2  c351b277a358f0         120  54013023        1        KR>12              1"
      ]
     },
     "metadata": {
      "tags": []
     }
    },
    {
     "output_type": "stream",
     "text": [
      "promoted_content\n"
     ],
     "name": "stdout"
    },
    {
     "output_type": "display_data",
     "data": {
      "text/html": [
       "<div>\n",
       "<style scoped>\n",
       "    .dataframe tbody tr th:only-of-type {\n",
       "        vertical-align: middle;\n",
       "    }\n",
       "\n",
       "    .dataframe tbody tr th {\n",
       "        vertical-align: top;\n",
       "    }\n",
       "\n",
       "    .dataframe thead th {\n",
       "        text-align: right;\n",
       "    }\n",
       "</style>\n",
       "<table border=\"1\" class=\"dataframe\">\n",
       "  <thead>\n",
       "    <tr style=\"text-align: right;\">\n",
       "      <th></th>\n",
       "      <th>ad_id</th>\n",
       "      <th>document_id</th>\n",
       "      <th>campaign_id</th>\n",
       "      <th>advertiser_id</th>\n",
       "    </tr>\n",
       "  </thead>\n",
       "  <tbody>\n",
       "    <tr>\n",
       "      <th>0</th>\n",
       "      <td>1</td>\n",
       "      <td>6614</td>\n",
       "      <td>1</td>\n",
       "      <td>7</td>\n",
       "    </tr>\n",
       "    <tr>\n",
       "      <th>1</th>\n",
       "      <td>2</td>\n",
       "      <td>471467</td>\n",
       "      <td>2</td>\n",
       "      <td>7</td>\n",
       "    </tr>\n",
       "    <tr>\n",
       "      <th>2</th>\n",
       "      <td>3</td>\n",
       "      <td>7692</td>\n",
       "      <td>3</td>\n",
       "      <td>7</td>\n",
       "    </tr>\n",
       "  </tbody>\n",
       "</table>\n",
       "</div>"
      ],
      "text/plain": [
       "  ad_id document_id campaign_id advertiser_id\n",
       "0     1        6614           1             7\n",
       "1     2      471467           2             7\n",
       "2     3        7692           3             7"
      ]
     },
     "metadata": {
      "tags": []
     }
    }
   ]
  },
  {
   "cell_type": "markdown",
   "metadata": {
    "id": "q_et7CT4twSk"
   },
   "source": [
    "# HW 2 [Optional]. Spark SQL"
   ]
  },
  {
   "cell_type": "markdown",
   "metadata": {
    "id": "JahDdiM6twSq"
   },
   "source": [
    "## Q1 (1 point). Average CTR\n",
    "\n",
    "Find out the average `uuid` (user) CTR, i.e., number of clicks in all of her `display_ids` / (number of impressions ... + 10). Plot the distribution of individual CTRs as a histogram (`bins=100`)."
   ]
  },
  {
   "cell_type": "code",
   "metadata": {
    "id": "CFf4ynmptwSq"
   },
   "source": [
    "sql_ctr = \"\"\"\n",
    "    select\n",
    "        *, click_1 / (click_0 + click_1{bias}) as ctr\n",
    "    from (\n",
    "        select\n",
    "            uuid, clicked, count(*) as view_count\n",
    "        from (\n",
    "            select\n",
    "                events.uuid, clicked\n",
    "            from\n",
    "                clicks_train\n",
    "            inner join\n",
    "                events\n",
    "            on\n",
    "                clicks_train.display_id = events.display_id)\n",
    "        group by\n",
    "            uuid, clicked)\n",
    "    pivot (\n",
    "        first(view_count)\n",
    "        for\n",
    "            clicked in (0 click_0, 1 click_1))\n",
    "\"\"\""
   ],
   "execution_count": null,
   "outputs": []
  },
  {
   "cell_type": "code",
   "metadata": {
    "id": "cH4jatyBtwSq",
    "outputId": "91025749-4a6b-4844-9d23-9186f5cefe0e"
   },
   "source": [
    "%%time\n",
    "df = se.sql(sql_ctr.format(bias=' + 10'))\n",
    "df.printSchema()"
   ],
   "execution_count": null,
   "outputs": [
    {
     "output_type": "stream",
     "text": [
      "root\n",
      " |-- uuid: string (nullable = true)\n",
      " |-- click_0: long (nullable = true)\n",
      " |-- click_1: long (nullable = true)\n",
      " |-- ctr: double (nullable = true)\n",
      "\n",
      "CPU times: user 1.84 ms, sys: 0 ns, total: 1.84 ms\n",
      "Wall time: 96 ms\n"
     ],
     "name": "stdout"
    }
   ]
  },
  {
   "cell_type": "code",
   "metadata": {
    "id": "iOL4Skt6twSr",
    "outputId": "5e3af4b6-217c-443e-d0c5-0487e311d5de"
   },
   "source": [
    "%%time\n",
    "display(df.toPandas())"
   ],
   "execution_count": null,
   "outputs": [
    {
     "output_type": "display_data",
     "data": {
      "text/html": [
       "<div>\n",
       "<style scoped>\n",
       "    .dataframe tbody tr th:only-of-type {\n",
       "        vertical-align: middle;\n",
       "    }\n",
       "\n",
       "    .dataframe tbody tr th {\n",
       "        vertical-align: top;\n",
       "    }\n",
       "\n",
       "    .dataframe thead th {\n",
       "        text-align: right;\n",
       "    }\n",
       "</style>\n",
       "<table border=\"1\" class=\"dataframe\">\n",
       "  <thead>\n",
       "    <tr style=\"text-align: right;\">\n",
       "      <th></th>\n",
       "      <th>uuid</th>\n",
       "      <th>click_0</th>\n",
       "      <th>click_1</th>\n",
       "      <th>ctr</th>\n",
       "    </tr>\n",
       "  </thead>\n",
       "  <tbody>\n",
       "    <tr>\n",
       "      <th>0</th>\n",
       "      <td>f57059a117cf76</td>\n",
       "      <td>7</td>\n",
       "      <td>1</td>\n",
       "      <td>0.055556</td>\n",
       "    </tr>\n",
       "    <tr>\n",
       "      <th>1</th>\n",
       "      <td>aaca0d62c5e4fd</td>\n",
       "      <td>8</td>\n",
       "      <td>2</td>\n",
       "      <td>0.100000</td>\n",
       "    </tr>\n",
       "    <tr>\n",
       "      <th>2</th>\n",
       "      <td>bcc5aa3d8042bc</td>\n",
       "      <td>8</td>\n",
       "      <td>3</td>\n",
       "      <td>0.142857</td>\n",
       "    </tr>\n",
       "    <tr>\n",
       "      <th>3</th>\n",
       "      <td>cb141fad5e696a</td>\n",
       "      <td>5</td>\n",
       "      <td>1</td>\n",
       "      <td>0.062500</td>\n",
       "    </tr>\n",
       "    <tr>\n",
       "      <th>4</th>\n",
       "      <td>2a358c38f76833</td>\n",
       "      <td>3</td>\n",
       "      <td>1</td>\n",
       "      <td>0.071429</td>\n",
       "    </tr>\n",
       "    <tr>\n",
       "      <th>...</th>\n",
       "      <td>...</td>\n",
       "      <td>...</td>\n",
       "      <td>...</td>\n",
       "      <td>...</td>\n",
       "    </tr>\n",
       "    <tr>\n",
       "      <th>14814339</th>\n",
       "      <td>8f3d748714cc0c</td>\n",
       "      <td>10</td>\n",
       "      <td>2</td>\n",
       "      <td>0.090909</td>\n",
       "    </tr>\n",
       "    <tr>\n",
       "      <th>14814340</th>\n",
       "      <td>bf748b0eda152b</td>\n",
       "      <td>4</td>\n",
       "      <td>1</td>\n",
       "      <td>0.066667</td>\n",
       "    </tr>\n",
       "    <tr>\n",
       "      <th>14814341</th>\n",
       "      <td>53e03f22b28b7e</td>\n",
       "      <td>3</td>\n",
       "      <td>1</td>\n",
       "      <td>0.071429</td>\n",
       "    </tr>\n",
       "    <tr>\n",
       "      <th>14814342</th>\n",
       "      <td>851f5d238be8bb</td>\n",
       "      <td>4</td>\n",
       "      <td>2</td>\n",
       "      <td>0.125000</td>\n",
       "    </tr>\n",
       "    <tr>\n",
       "      <th>14814343</th>\n",
       "      <td>73786c94f0f002</td>\n",
       "      <td>3</td>\n",
       "      <td>1</td>\n",
       "      <td>0.071429</td>\n",
       "    </tr>\n",
       "  </tbody>\n",
       "</table>\n",
       "<p>14814344 rows × 4 columns</p>\n",
       "</div>"
      ],
      "text/plain": [
       "                    uuid  click_0  click_1       ctr\n",
       "0         f57059a117cf76        7        1  0.055556\n",
       "1         aaca0d62c5e4fd        8        2  0.100000\n",
       "2         bcc5aa3d8042bc        8        3  0.142857\n",
       "3         cb141fad5e696a        5        1  0.062500\n",
       "4         2a358c38f76833        3        1  0.071429\n",
       "...                  ...      ...      ...       ...\n",
       "14814339  8f3d748714cc0c       10        2  0.090909\n",
       "14814340  bf748b0eda152b        4        1  0.066667\n",
       "14814341  53e03f22b28b7e        3        1  0.071429\n",
       "14814342  851f5d238be8bb        4        2  0.125000\n",
       "14814343  73786c94f0f002        3        1  0.071429\n",
       "\n",
       "[14814344 rows x 4 columns]"
      ]
     },
     "metadata": {
      "tags": []
     }
    },
    {
     "output_type": "stream",
     "text": [
      "CPU times: user 53.8 s, sys: 2.79 s, total: 56.6 s\n",
      "Wall time: 1min 52s\n"
     ],
     "name": "stdout"
    }
   ]
  },
  {
   "cell_type": "code",
   "metadata": {
    "id": "mdPghLpAtwSr",
    "outputId": "7b3dc1fd-28f8-4a34-97b0-0c5d7f79dba0"
   },
   "source": [
    "%%time\n",
    "ctr_10_hist = np.histogram(np.array(df.select('ctr').collect()), bins=100)"
   ],
   "execution_count": null,
   "outputs": [
    {
     "output_type": "stream",
     "text": [
      "CPU times: user 3min 8s, sys: 1.5 s, total: 3min 9s\n",
      "Wall time: 3min 55s\n"
     ],
     "name": "stdout"
    }
   ]
  },
  {
   "cell_type": "code",
   "metadata": {
    "id": "PSMMjb5qtwSs"
   },
   "source": [
    "def plot_hist(hist, plot_type='hist'):\n",
    "    \n",
    "    plt.figure()\n",
    "    \n",
    "    if plot_type == 'hist':\n",
    "        plt.plot(0.5 * (hist[1][1:] + hist[1][:-1]), hist[0])\n",
    "    elif plot_type == 'scatter':\n",
    "        plt.scatter(hist[0], hist[1])\n",
    "        \n",
    "    plt.xscale('log')\n",
    "    plt.yscale('log')\n",
    "    plt.grid()\n",
    "    plt.show()"
   ],
   "execution_count": null,
   "outputs": []
  },
  {
   "cell_type": "code",
   "metadata": {
    "id": "Tg_3GzfltwSs",
    "outputId": "11426b3b-77f9-4a44-9e23-0b962d203dcb"
   },
   "source": [
    "plot_hist(ctr_10_hist)"
   ],
   "execution_count": null,
   "outputs": [
    {
     "output_type": "display_data",
     "data": {
      "image/png": "[encoded data removed]",
      "text/plain": [
       "<Figure size 432x288 with 1 Axes>"
      ]
     },
     "metadata": {
      "tags": [],
      "needs_background": "light"
     }
    }
   ]
  },
  {
   "cell_type": "markdown",
   "metadata": {
    "id": "FnhQM9E6twSs"
   },
   "source": [
    "> The biased CTR distribution has an approximate power-law distribution, i.e. high-rate \"clickers\" are exceedingly rare. Let's also check the unbiased CTR."
   ]
  },
  {
   "cell_type": "code",
   "metadata": {
    "id": "9smqA_f6twSt",
    "outputId": "714f3411-874e-4fe4-8c81-d215051a5a7a"
   },
   "source": [
    "%%time\n",
    "df = se.sql(sql_ctr.format(bias=''))\n",
    "df.printSchema()"
   ],
   "execution_count": null,
   "outputs": [
    {
     "output_type": "stream",
     "text": [
      "root\n",
      " |-- uuid: string (nullable = true)\n",
      " |-- click_0: long (nullable = true)\n",
      " |-- click_1: long (nullable = true)\n",
      " |-- ctr: double (nullable = true)\n",
      "\n",
      "CPU times: user 1.77 ms, sys: 0 ns, total: 1.77 ms\n",
      "Wall time: 28.5 ms\n"
     ],
     "name": "stdout"
    }
   ]
  },
  {
   "cell_type": "code",
   "metadata": {
    "id": "ZxoIUNQEtwSt",
    "outputId": "bc4e7c69-a6ef-4697-af6e-476cf7abd0fc"
   },
   "source": [
    "%%time\n",
    "display(df.toPandas())"
   ],
   "execution_count": null,
   "outputs": [
    {
     "output_type": "display_data",
     "data": {
      "text/html": [
       "<div>\n",
       "<style scoped>\n",
       "    .dataframe tbody tr th:only-of-type {\n",
       "        vertical-align: middle;\n",
       "    }\n",
       "\n",
       "    .dataframe tbody tr th {\n",
       "        vertical-align: top;\n",
       "    }\n",
       "\n",
       "    .dataframe thead th {\n",
       "        text-align: right;\n",
       "    }\n",
       "</style>\n",
       "<table border=\"1\" class=\"dataframe\">\n",
       "  <thead>\n",
       "    <tr style=\"text-align: right;\">\n",
       "      <th></th>\n",
       "      <th>uuid</th>\n",
       "      <th>click_0</th>\n",
       "      <th>click_1</th>\n",
       "      <th>ctr</th>\n",
       "    </tr>\n",
       "  </thead>\n",
       "  <tbody>\n",
       "    <tr>\n",
       "      <th>0</th>\n",
       "      <td>ea8602cd3bc87c</td>\n",
       "      <td>3</td>\n",
       "      <td>1</td>\n",
       "      <td>0.250000</td>\n",
       "    </tr>\n",
       "    <tr>\n",
       "      <th>1</th>\n",
       "      <td>888664656d26e9</td>\n",
       "      <td>5</td>\n",
       "      <td>1</td>\n",
       "      <td>0.166667</td>\n",
       "    </tr>\n",
       "    <tr>\n",
       "      <th>2</th>\n",
       "      <td>53f4534912289a</td>\n",
       "      <td>5</td>\n",
       "      <td>1</td>\n",
       "      <td>0.166667</td>\n",
       "    </tr>\n",
       "    <tr>\n",
       "      <th>3</th>\n",
       "      <td>6e2a9fea163f61</td>\n",
       "      <td>3</td>\n",
       "      <td>1</td>\n",
       "      <td>0.250000</td>\n",
       "    </tr>\n",
       "    <tr>\n",
       "      <th>4</th>\n",
       "      <td>b3ff4734a03103</td>\n",
       "      <td>8</td>\n",
       "      <td>1</td>\n",
       "      <td>0.111111</td>\n",
       "    </tr>\n",
       "    <tr>\n",
       "      <th>...</th>\n",
       "      <td>...</td>\n",
       "      <td>...</td>\n",
       "      <td>...</td>\n",
       "      <td>...</td>\n",
       "    </tr>\n",
       "    <tr>\n",
       "      <th>14814339</th>\n",
       "      <td>bdce0805317ce4</td>\n",
       "      <td>3</td>\n",
       "      <td>1</td>\n",
       "      <td>0.250000</td>\n",
       "    </tr>\n",
       "    <tr>\n",
       "      <th>14814340</th>\n",
       "      <td>13ae00ad5365ab</td>\n",
       "      <td>5</td>\n",
       "      <td>1</td>\n",
       "      <td>0.166667</td>\n",
       "    </tr>\n",
       "    <tr>\n",
       "      <th>14814341</th>\n",
       "      <td>3cfc254b528853</td>\n",
       "      <td>5</td>\n",
       "      <td>1</td>\n",
       "      <td>0.166667</td>\n",
       "    </tr>\n",
       "    <tr>\n",
       "      <th>14814342</th>\n",
       "      <td>d3645c95525ec5</td>\n",
       "      <td>7</td>\n",
       "      <td>1</td>\n",
       "      <td>0.125000</td>\n",
       "    </tr>\n",
       "    <tr>\n",
       "      <th>14814343</th>\n",
       "      <td>c8a60c1cdeb3aa</td>\n",
       "      <td>4</td>\n",
       "      <td>1</td>\n",
       "      <td>0.200000</td>\n",
       "    </tr>\n",
       "  </tbody>\n",
       "</table>\n",
       "<p>14814344 rows × 4 columns</p>\n",
       "</div>"
      ],
      "text/plain": [
       "                    uuid  click_0  click_1       ctr\n",
       "0         ea8602cd3bc87c        3        1  0.250000\n",
       "1         888664656d26e9        5        1  0.166667\n",
       "2         53f4534912289a        5        1  0.166667\n",
       "3         6e2a9fea163f61        3        1  0.250000\n",
       "4         b3ff4734a03103        8        1  0.111111\n",
       "...                  ...      ...      ...       ...\n",
       "14814339  bdce0805317ce4        3        1  0.250000\n",
       "14814340  13ae00ad5365ab        5        1  0.166667\n",
       "14814341  3cfc254b528853        5        1  0.166667\n",
       "14814342  d3645c95525ec5        7        1  0.125000\n",
       "14814343  c8a60c1cdeb3aa        4        1  0.200000\n",
       "\n",
       "[14814344 rows x 4 columns]"
      ]
     },
     "metadata": {
      "tags": []
     }
    },
    {
     "output_type": "stream",
     "text": [
      "CPU times: user 54.6 s, sys: 2.76 s, total: 57.3 s\n",
      "Wall time: 1min 52s\n"
     ],
     "name": "stdout"
    }
   ]
  },
  {
   "cell_type": "code",
   "metadata": {
    "id": "zY3JWvpttwSt",
    "outputId": "c11f7ed5-0496-43f4-a576-ede161809a72"
   },
   "source": [
    "%%time\n",
    "ctr_hist = np.histogram(np.array(df.select('ctr').collect()), bins=100)"
   ],
   "execution_count": null,
   "outputs": [
    {
     "output_type": "stream",
     "text": [
      "CPU times: user 3min 8s, sys: 1.59 s, total: 3min 9s\n",
      "Wall time: 3min 53s\n"
     ],
     "name": "stdout"
    }
   ]
  },
  {
   "cell_type": "code",
   "metadata": {
    "id": "6TtuOwe7twSu",
    "outputId": "a88bcdac-a69c-4b6c-d781-c3fea30a531a"
   },
   "source": [
    "plot_hist(ctr_hist)"
   ],
   "execution_count": null,
   "outputs": [
    {
     "output_type": "display_data",
     "data": {
      "image/png": "[encoded data removed]",
      "text/plain": [
       "<Figure size 432x288 with 1 Axes>"
      ]
     },
     "metadata": {
      "tags": [],
      "needs_background": "light"
     }
    }
   ]
  },
  {
   "cell_type": "markdown",
   "metadata": {
    "id": "seiFZp3FtwSu"
   },
   "source": [
    "> We see that the biasing CTR denominator is kind of Laplacian regularization that smooths the CTR distribution."
   ]
  },
  {
   "cell_type": "markdown",
   "metadata": {
    "id": "HjWPBL8VtwSv"
   },
   "source": [
    "## Q2 (1 point). Page views\n",
    "\n",
    "Find out how many page views an average user has, before encountering a `display_id` (use `timestamp` columns). Plot the distribution of individual values."
   ]
  },
  {
   "cell_type": "markdown",
   "metadata": {
    "id": "tz_xGlHttwSv"
   },
   "source": [
    "> For analysis we select only rows having common `uuid` in both `page_views` and `events`, i.e., we compute statistics per user. Also, we consider all documents viewed by user.by disregarding `document_is`."
   ]
  },
  {
   "cell_type": "code",
   "metadata": {
    "id": "1_-U2wUitwSv",
    "outputId": "5786216d-15e7-461c-bc46-8ccf9e030c90"
   },
   "source": [
    "df = se.sql(\n",
    "\"\"\"\n",
    "    select\n",
    "        page_views.uuid,\n",
    "        count(*) as views_before\n",
    "    from\n",
    "        page_views\n",
    "    inner join (\n",
    "        select\n",
    "            uuid,\n",
    "            min(cast(events.timestamp as int)) as min_ts\n",
    "        from\n",
    "            events\n",
    "        group by\n",
    "            uuid) as min_events\n",
    "    on\n",
    "        page_views.uuid = min_events.uuid\n",
    "    where\n",
    "        cast(page_views.timestamp as int) < min_events.min_ts\n",
    "    group by\n",
    "        page_views.uuid\n",
    "\"\"\")\n",
    "df.printSchema()"
   ],
   "execution_count": null,
   "outputs": [
    {
     "output_type": "stream",
     "text": [
      "root\n",
      " |-- uuid: string (nullable = true)\n",
      " |-- views_before: long (nullable = false)\n",
      "\n"
     ],
     "name": "stdout"
    }
   ]
  },
  {
   "cell_type": "code",
   "metadata": {
    "id": "wxSgWKdjtwSv",
    "outputId": "d6597476-4f0c-4bbb-e9fb-263c446701d3"
   },
   "source": [
    "%%time\n",
    "views_before = np.array(df.select('views_before').collect()).ravel()\n",
    "print(np.mean(views_before))"
   ],
   "execution_count": null,
   "outputs": [
    {
     "output_type": "stream",
     "text": [
      "5.921887909562661\n",
      "CPU times: user 3min 2s, sys: 1.48 s, total: 3min 3s\n",
      "Wall time: 14min 20s\n"
     ],
     "name": "stdout"
    }
   ]
  },
  {
   "cell_type": "markdown",
   "metadata": {
    "id": "rLE73lvKtwSw"
   },
   "source": [
    "> An average user views $\\sim6$ pages before encountering an ad."
   ]
  },
  {
   "cell_type": "code",
   "metadata": {
    "id": "Jf0coRwPtwSw",
    "outputId": "e2aa1fb6-4bba-48a9-9421-34cd46590bf4"
   },
   "source": [
    "views_before_hist = np.bincount(views_before)\n",
    "v_range = np.argwhere(views_before_hist)\n",
    "plot_hist((v_range, views_before_hist[v_range]), plot_type='scatter')"
   ],
   "execution_count": null,
   "outputs": [
    {
     "output_type": "display_data",
     "data": {
      "image/png": "[encoded data removed]",
      "text/plain": [
       "<Figure size 432x288 with 1 Axes>"
      ]
     },
     "metadata": {
      "tags": [],
      "needs_background": "light"
     }
    }
   ]
  },
  {
   "cell_type": "markdown",
   "metadata": {
    "id": "lF5kNsxdtwSx"
   },
   "source": [
    "> Like CTR, the views before ad distribution is an approximate power-law, but now the deviation from pure power-law is much more evident."
   ]
  },
  {
   "cell_type": "code",
   "metadata": {
    "id": "eOCGh-JRtwSx"
   },
   "source": [
    ""
   ],
   "execution_count": null,
   "outputs": []
  }
 ]
}